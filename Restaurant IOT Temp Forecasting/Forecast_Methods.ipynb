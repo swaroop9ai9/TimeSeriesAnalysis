{
  "nbformat": 4,
  "nbformat_minor": 0,
  "metadata": {
    "colab": {
      "name": "Modularize Code",
      "provenance": [],
      "collapsed_sections": []
    },
    "kernelspec": {
      "name": "python3",
      "display_name": "Python 3"
    }
  },
  "cells": [
    {
      "cell_type": "code",
      "metadata": {
        "id": "L5J1Ck3eq-sC",
        "colab_type": "code",
        "outputId": "f382d194-979e-4278-e950-0bdc770c9cc9",
        "colab": {
          "base_uri": "https://localhost:8080/",
          "height": 189
        }
      },
      "source": [
        "from google.colab import drive\n",
        "drive.mount('/content/gdrive')"
      ],
      "execution_count": 1,
      "outputs": [
        {
          "output_type": "stream",
          "text": [
            "Go to this URL in a browser: https://accounts.google.com/o/oauth2/auth?client_id=947318989803-6bn6qk8qdgf4n4g3pfee6491hc0brc4i.apps.googleusercontent.com&redirect_uri=urn%3aietf%3awg%3aoauth%3a2.0%3aoob&response_type=code&scope=email%20https%3a%2f%2fwww.googleapis.com%2fauth%2fdocs.test%20https%3a%2f%2fwww.googleapis.com%2fauth%2fdrive%20https%3a%2f%2fwww.googleapis.com%2fauth%2fdrive.photos.readonly%20https%3a%2f%2fwww.googleapis.com%2fauth%2fpeopleapi.readonly\n",
            "\n",
            "Enter your authorization code:\n",
            "··········\n",
            "Mounted at /content/gdrive\n"
          ],
          "name": "stdout"
        }
      ]
    },
    {
      "cell_type": "code",
      "metadata": {
        "id": "rImENbXjiA_m",
        "colab_type": "code",
        "colab": {
          "base_uri": "https://localhost:8080/",
          "height": 91
        },
        "outputId": "64454440-52e6-45dd-9a76-fde0c5f8feaa"
      },
      "source": [
        "\n",
        "import pandas as pd\n",
        "import numpy as np\n",
        "import matplotlib.pylab as plt #for visualization\n",
        "#for making sure matplotlib plots are generated in Jupyter notebook itself\n",
        "%matplotlib inline             \n",
        "from statsmodels.tsa.stattools import adfuller\n",
        "from statsmodels.tsa.stattools import acf, pacf\n",
        "from statsmodels.tsa.seasonal import seasonal_decompose\n",
        "from statsmodels.tsa.arima_model import ARIMA\n",
        "from statsmodels.stats.diagnostic import acorr_ljungbox as ljungbox\n",
        "from matplotlib.pylab import rcParams\n",
        "import warnings\n",
        "import itertools\n",
        "import statsmodels.api as sm\n",
        "import itertools\n",
        "from sklearn import metrics\n",
        "import gc\n",
        "from sklearn.linear_model import LinearRegression\n",
        "lr = LinearRegression(fit_intercept=True)\n",
        "from sklearn.model_selection import train_test_split\n",
        "from sklearn import metrics\n",
        "from sklearn.preprocessing import MinMaxScaler\n",
        "from sklearn.neighbors import KNeighborsRegressor\n",
        "from sklearn.linear_model import LinearRegression\n",
        "from sklearn.svm import SVR\n",
        "from sklearn.tree import DecisionTreeRegressor\n",
        "from sklearn.ensemble import RandomForestRegressor\n",
        "from sklearn.impute import KNNImputer\n",
        "plt.style.use('fivethirtyeight')\n",
        "rcParams['figure.figsize'] = 10, 6"
      ],
      "execution_count": 2,
      "outputs": [
        {
          "output_type": "stream",
          "text": [
            "/usr/local/lib/python3.6/dist-packages/statsmodels/tools/_testing.py:19: FutureWarning: pandas.util.testing is deprecated. Use the functions in the public API at pandas.testing instead.\n",
            "  import pandas.util.testing as tm\n"
          ],
          "name": "stderr"
        }
      ]
    },
    {
      "cell_type": "code",
      "metadata": {
        "id": "cIc-Vkp4iBZb",
        "colab_type": "code",
        "colab": {}
      },
      "source": [
        "def savepic(name):\n",
        "  print(\"Do you wanna download the output picture\")\n",
        "  if input() == 'Yes':\n",
        "    plt.savefig(name+\".png\")\n",
        "    files.download(name+\".png\") \n",
        "  else:\n",
        "    print(\"Thanks for typing\")"
      ],
      "execution_count": 0,
      "outputs": []
    },
    {
      "cell_type": "code",
      "metadata": {
        "id": "iFwN-1EEiEgn",
        "colab_type": "code",
        "colab": {}
      },
      "source": [
        "Dec = pd.read_csv('gdrive/My Drive/DATA/Walkin_temp/Dec.csv')\n",
        "Feb = pd.read_csv('gdrive/My Drive/DATA/Walkin_temp/Feb.csv')\n",
        "Jan = pd.read_csv('gdrive/My Drive/DATA/Walkin_temp/Jan.csv')\n",
        "Nov = pd.read_csv('gdrive/My Drive/DATA/Walkin_temp/Nov.csv')"
      ],
      "execution_count": 0,
      "outputs": []
    },
    {
      "cell_type": "code",
      "metadata": {
        "id": "S4mwPtb0iGj7",
        "colab_type": "code",
        "colab": {}
      },
      "source": [
        "Dec['Time'] = Dec['Date']+str(' ')+Dec['Time']\n",
        "Nov['Time'] = Nov['Date']+str(' ')+Nov['Time']\n",
        "Jan['Time'] = Jan['Date']+str(' ')+Jan['Time']\n",
        "Feb['Time'] = Feb['Date']+str(' ')+Feb['Time']"
      ],
      "execution_count": 0,
      "outputs": []
    },
    {
      "cell_type": "code",
      "metadata": {
        "id": "D9M8AngSiJNG",
        "colab_type": "code",
        "colab": {
          "base_uri": "https://localhost:8080/",
          "height": 629
        },
        "outputId": "18465b89-2678-4afb-9308-59d54958bcae"
      },
      "source": [
        "for i in [Dec,Feb,Jan,Nov]:\n",
        "  i['Time'] = pd.to_datetime(i['Time'])\n",
        "  i['Temperature'] = i['Temperature (F)']\n",
        "  i.drop(['Date','Temperature (F)','Zone'], axis=1,inplace=True)  # Dropping the other columns\n",
        "  i.info()"
      ],
      "execution_count": 7,
      "outputs": [
        {
          "output_type": "stream",
          "text": [
            "<class 'pandas.core.frame.DataFrame'>\n",
            "RangeIndex: 25488 entries, 0 to 25487\n",
            "Data columns (total 2 columns):\n",
            " #   Column       Non-Null Count  Dtype         \n",
            "---  ------       --------------  -----         \n",
            " 0   Time         25488 non-null  datetime64[ns]\n",
            " 1   Temperature  25488 non-null  float64       \n",
            "dtypes: datetime64[ns](1), float64(1)\n",
            "memory usage: 398.4 KB\n",
            "<class 'pandas.core.frame.DataFrame'>\n",
            "RangeIndex: 8008 entries, 0 to 8007\n",
            "Data columns (total 2 columns):\n",
            " #   Column       Non-Null Count  Dtype         \n",
            "---  ------       --------------  -----         \n",
            " 0   Time         8008 non-null   datetime64[ns]\n",
            " 1   Temperature  8008 non-null   float64       \n",
            "dtypes: datetime64[ns](1), float64(1)\n",
            "memory usage: 125.2 KB\n",
            "<class 'pandas.core.frame.DataFrame'>\n",
            "RangeIndex: 35364 entries, 0 to 35363\n",
            "Data columns (total 2 columns):\n",
            " #   Column       Non-Null Count  Dtype         \n",
            "---  ------       --------------  -----         \n",
            " 0   Time         35364 non-null  datetime64[ns]\n",
            " 1   Temperature  35364 non-null  float64       \n",
            "dtypes: datetime64[ns](1), float64(1)\n",
            "memory usage: 552.7 KB\n",
            "<class 'pandas.core.frame.DataFrame'>\n",
            "RangeIndex: 34226 entries, 0 to 34225\n",
            "Data columns (total 2 columns):\n",
            " #   Column       Non-Null Count  Dtype         \n",
            "---  ------       --------------  -----         \n",
            " 0   Time         34226 non-null  datetime64[ns]\n",
            " 1   Temperature  34226 non-null  float64       \n",
            "dtypes: datetime64[ns](1), float64(1)\n",
            "memory usage: 534.9 KB\n"
          ],
          "name": "stdout"
        }
      ]
    },
    {
      "cell_type": "code",
      "metadata": {
        "id": "EuT-LQUpiK-n",
        "colab_type": "code",
        "colab": {
          "base_uri": "https://localhost:8080/",
          "height": 153
        },
        "outputId": "be1c18c0-091e-4ed2-f4f7-79f5983324c3"
      },
      "source": [
        "for i in [Dec,Jan,Feb,Nov]:\n",
        "  i.set_index('Time',inplace=True)\n",
        "  print(i.isnull().sum())"
      ],
      "execution_count": 8,
      "outputs": [
        {
          "output_type": "stream",
          "text": [
            "Temperature    0\n",
            "dtype: int64\n",
            "Temperature    0\n",
            "dtype: int64\n",
            "Temperature    0\n",
            "dtype: int64\n",
            "Temperature    0\n",
            "dtype: int64\n"
          ],
          "name": "stdout"
        }
      ]
    },
    {
      "cell_type": "code",
      "metadata": {
        "id": "UVz7r_5ciVqn",
        "colab_type": "code",
        "colab": {}
      },
      "source": [
        "# Optimal Parameters for ARIMA\n",
        "p_values = [0, 1, 2, 4, 6, 8, 10]\n",
        "d_values = range(0, 3) #this is the range for the values\n",
        "q_values = range(0, 3) #this is the range for the values"
      ],
      "execution_count": 0,
      "outputs": []
    },
    {
      "cell_type": "code",
      "metadata": {
        "id": "dvAdjPQRijcM",
        "colab_type": "code",
        "colab": {}
      },
      "source": [
        "# from tqdm import tqdm\n",
        "# p_values = [1, 2, 3, 4, 5]\n",
        "# d_values = range(0, 3) #this is the range for the values\n",
        "# q_values = range(0, 3) #this is the range for the values\n",
        "# re = dict()\n",
        "# for p in tqdm(p_values):\n",
        "#   for d in tqdm(d_values):\n",
        "#     for q in tqdm(q_values):\n",
        "#       order = (p,d,q)\n",
        "#       model = ARIMA(Datalog, order=(p,d,q))\n",
        "#       results_ARIMA = model.fit(disp=-1)\n",
        "#       re[str(order)] = sum((results_ARIMA.fittedvalues-df_log_shift[\"Temp\"])**2)\n",
        "#       print('Order is ',order)\n",
        "#       print('RSS: %.4f'%sum((results_ARIMA.fittedvalues-df_log_shift[\"Temp\"])**2))\n",
        "\n"
      ],
      "execution_count": 0,
      "outputs": []
    },
    {
      "cell_type": "code",
      "metadata": {
        "id": "96WtEBBzix4D",
        "colab_type": "code",
        "colab": {
          "base_uri": "https://localhost:8080/",
          "height": 51
        },
        "outputId": "2d6d75ab-8d2e-4ea5-b37e-929b6c4c3e96"
      },
      "source": [
        "print('The optimal grid search parameters for  Arima are')\n",
        "print('Optimal parameters are (1,2,0)')"
      ],
      "execution_count": 10,
      "outputs": [
        {
          "output_type": "stream",
          "text": [
            "The optimal grid search parameters for  Arima are\n",
            "Optimal parameters are (1,2,0)\n"
          ],
          "name": "stdout"
        }
      ]
    },
    {
      "cell_type": "code",
      "metadata": {
        "id": "6NTRneW_iyL6",
        "colab_type": "code",
        "colab": {
          "base_uri": "https://localhost:8080/",
          "height": 136
        },
        "outputId": "86660aa4-24c8-4963-eff4-2d333a33ac12"
      },
      "source": [
        "# Searching Optimal Parameters for SARIMA\n",
        "# From the above 'acf' and 'pacf' we can say the seasonality to be '2'.\n",
        "import itertools\n",
        "import statsmodels.api as sm\n",
        "p = range(1,4)\n",
        "d = q = range(0, 2)\n",
        "pdq = list(itertools.product(p, d, q))\n",
        "seasonal_pdq = [(x[0], x[1], x[2], 2) for x in list(itertools.product(p, d, q))]\n",
        "print('Examples of parameter for SARIMA...')\n",
        "print('SARIMAX: {} x {}'.format(pdq[1], seasonal_pdq[1]))\n",
        "print('SARIMAX: {} x {}'.format(pdq[1], seasonal_pdq[2]))\n",
        "print('SARIMAX: {} x {}'.format(pdq[2], seasonal_pdq[3]))\n",
        "print('SARIMAX: {} x {}'.format(pdq[2], seasonal_pdq[4]))\n",
        "print(len(seasonal_pdq))\n",
        "print('144 total combinations')"
      ],
      "execution_count": 12,
      "outputs": [
        {
          "output_type": "stream",
          "text": [
            "Examples of parameter for SARIMA...\n",
            "SARIMAX: (1, 0, 1) x (1, 0, 1, 2)\n",
            "SARIMAX: (1, 0, 1) x (1, 1, 0, 2)\n",
            "SARIMAX: (1, 1, 0) x (1, 1, 1, 2)\n",
            "SARIMAX: (1, 1, 0) x (2, 0, 0, 2)\n",
            "12\n",
            "144 total combinations\n"
          ],
          "name": "stdout"
        }
      ]
    },
    {
      "cell_type": "code",
      "metadata": {
        "id": "-F_RBnrnjDQg",
        "colab_type": "code",
        "colab": {}
      },
      "source": [
        "# # According Peterson, T. (2014) the AIC (Akaike information criterion) is an estimator of the relative quality \n",
        "# # of statistical models for a given set of data. Given a collection of models for the data, AIC estimates the quality of\n",
        "# # each model, relative to each of the other models. The low AIC value the better. \n",
        "# from tqdm import tqdm\n",
        "# aic = dict()\n",
        "# a = []\n",
        "# for param in tqdm(pdq):\n",
        "#     for param_seasonal in tqdm(seasonal_pdq):\n",
        "#         s = str(param)+' '+str(param_seasonal)\n",
        "#         if s not in a:\n",
        "#           a.append(s)\n",
        "#           try:\n",
        "#               smodel = sm.tsa.statespace.SARIMAX(Data,order=param,seasonal_order=param_seasonal,enforce_stationarity=False,enforce_invertibility=False)\n",
        "#               results = smodel.fit()\n",
        "#               print('ARIMA{}x{}1 - AIC:{}'.format(param,param_seasonal,results.aic))\n",
        "#               aic[s] = results.aic\n",
        "#               print(aic[s])\n",
        "#           except: \n",
        "#               continue\n",
        "#         else:\n",
        "#           continue"
      ],
      "execution_count": 0,
      "outputs": []
    },
    {
      "cell_type": "code",
      "metadata": {
        "id": "wL-w8LYWjLum",
        "colab_type": "code",
        "colab": {}
      },
      "source": [
        "class Raptors_Clean():\n",
        "  months = ['nov', 'dec', 'jan', 'feb']\n",
        "  df_names = [ ]\n",
        "\n",
        "  def __init__(self,nov,dec,jan,feb):\n",
        "    self.df_names = [nov,dec,jan,feb]\n",
        "\n",
        "\n",
        "  def getOutlierBoundaryConditions(self,dataset):\n",
        "      q75, q25 = np.percentile(dataset['Temperature'], [75, 25])\n",
        "      IQR = q75 - q25\n",
        "\n",
        "      lower_bound = q25 - (1.5 * IQR)\n",
        "      upper_bound = q75 + (1.5 * IQR)\n",
        "\n",
        "      filter1 = dataset['Temperature'] < lower_bound\n",
        "      filter2 = dataset['Temperature'] > upper_bound\n",
        "\n",
        "      print(q75)\n",
        "      print(q25)\n",
        "      return [filter1, filter2]\n",
        "\n",
        "  def applyOutlierBoundaryConditions(self,dataset):\n",
        "    onestConditions = self.getOutlierBoundaryConditions(dataset)\n",
        "    # Replace values below Q1 - (1.5 * IQR) with Q1 i.e.25th Percentile\n",
        "    dataset.loc[onestConditions[0]] = 38.7 \n",
        "    # Replace values above Q3 + (1.5 * IQR) with  Q3 i.e.75th Percentile\n",
        "    dataset.loc[onestConditions[1]] = 39.9\n",
        "    dataset.loc[onestConditions[0] | onestConditions[1]]\n",
        "    #lstConditions = self.getOutlierBoundaryConditions(data_imputed)\n",
        "    #dataset.loc[lstConditions[0] | lstConditions[1]]\n",
        "    return dataset\n",
        "\n",
        "    \n",
        "\n",
        "\n",
        "\n",
        "\n",
        "  def FillMissingValues(self):\n",
        "      data_full = pd.DataFrame(columns = ['Time','Temperature'])\n",
        "      for month, name in zip(self.months,self.df_names):\n",
        "          month = name.groupby(pd.Grouper(freq='1Min'))\n",
        "          new_df = pd.DataFrame(columns = ['Time','Temperature'])\n",
        "          for name, group in month:\n",
        "              if (len(group.values.flatten()) == 0):\n",
        "                  new_df = new_df.append({'Time':name,'Temperature':np.nan}, ignore_index=True)\n",
        "              else:\n",
        "                  new_df = new_df.append({'Time':name,'Temperature':group.values.flatten()[0]}, ignore_index=True)\n",
        "                \n",
        "    \n",
        "          #data_full has the continuous data with nan values            \n",
        "          data_full = pd.concat([data_full, new_df], sort=False, ignore_index=True)\n",
        "      data_full.set_index('Time', drop=True, append=False, inplace=True, verify_integrity=False)\n",
        "      print('Missing Values in the dataset',data_full.isnull().sum())\n",
        "      imputer = KNNImputer(n_neighbors=15, weights=\"uniform\")\n",
        "      imputed_values = imputer.fit_transform(data_full)\n",
        "      #convert the numeric columns after imputation to a dataframe  \n",
        "      #data_imputed is complete datset imputed with KNN imputation values\n",
        "      data_imputed = pd.DataFrame(imputed_values, columns=['Temperature'])\n",
        "      data_imputed.index = data_full.index\n",
        "      print('Missing Values in the dataset after imputation',data_imputed.isnull().sum())\n",
        "      return data_imputed\n",
        "    "
      ],
      "execution_count": 0,
      "outputs": []
    },
    {
      "cell_type": "code",
      "metadata": {
        "id": "-CNjOE6XjPRO",
        "colab_type": "code",
        "colab": {
          "base_uri": "https://localhost:8080/",
          "height": 85
        },
        "outputId": "62d48476-bddc-4fbf-cc05-6c971c7348c8"
      },
      "source": [
        "cleaner = Raptors_Clean(Nov,Dec,Jan,Feb)\n",
        "Data = cleaner.FillMissingValues()"
      ],
      "execution_count": 15,
      "outputs": [
        {
          "output_type": "stream",
          "text": [
            "Missing Values in the dataset Temperature    30841\n",
            "dtype: int64\n",
            "Missing Values in the dataset after imputation Temperature    0\n",
            "dtype: int64\n"
          ],
          "name": "stdout"
        }
      ]
    },
    {
      "cell_type": "code",
      "metadata": {
        "id": "UOxWmIPAjY1V",
        "colab_type": "code",
        "colab": {
          "base_uri": "https://localhost:8080/",
          "height": 484
        },
        "outputId": "c3f7f517-52ec-4073-d467-accf89549a27"
      },
      "source": [
        "onestConditions = cleaner.getOutlierBoundaryConditions(Data)\n",
        "Data.loc[onestConditions[0] | onestConditions[1]]"
      ],
      "execution_count": 16,
      "outputs": [
        {
          "output_type": "stream",
          "text": [
            "39.9\n",
            "38.7\n"
          ],
          "name": "stdout"
        },
        {
          "output_type": "execute_result",
          "data": {
            "text/html": [
              "<div>\n",
              "<style scoped>\n",
              "    .dataframe tbody tr th:only-of-type {\n",
              "        vertical-align: middle;\n",
              "    }\n",
              "\n",
              "    .dataframe tbody tr th {\n",
              "        vertical-align: top;\n",
              "    }\n",
              "\n",
              "    .dataframe thead th {\n",
              "        text-align: right;\n",
              "    }\n",
              "</style>\n",
              "<table border=\"1\" class=\"dataframe\">\n",
              "  <thead>\n",
              "    <tr style=\"text-align: right;\">\n",
              "      <th></th>\n",
              "      <th>Temperature</th>\n",
              "    </tr>\n",
              "    <tr>\n",
              "      <th>Time</th>\n",
              "      <th></th>\n",
              "    </tr>\n",
              "  </thead>\n",
              "  <tbody>\n",
              "    <tr>\n",
              "      <th>2019-11-04 16:50:00</th>\n",
              "      <td>67.5</td>\n",
              "    </tr>\n",
              "    <tr>\n",
              "      <th>2019-11-04 16:51:00</th>\n",
              "      <td>67.3</td>\n",
              "    </tr>\n",
              "    <tr>\n",
              "      <th>2019-11-04 16:52:00</th>\n",
              "      <td>67.3</td>\n",
              "    </tr>\n",
              "    <tr>\n",
              "      <th>2019-11-04 16:53:00</th>\n",
              "      <td>67.3</td>\n",
              "    </tr>\n",
              "    <tr>\n",
              "      <th>2019-11-04 16:54:00</th>\n",
              "      <td>67.2</td>\n",
              "    </tr>\n",
              "    <tr>\n",
              "      <th>...</th>\n",
              "      <td>...</td>\n",
              "    </tr>\n",
              "    <tr>\n",
              "      <th>2020-02-06 12:42:00</th>\n",
              "      <td>36.9</td>\n",
              "    </tr>\n",
              "    <tr>\n",
              "      <th>2020-02-06 13:57:00</th>\n",
              "      <td>44.6</td>\n",
              "    </tr>\n",
              "    <tr>\n",
              "      <th>2020-02-06 13:58:00</th>\n",
              "      <td>48.4</td>\n",
              "    </tr>\n",
              "    <tr>\n",
              "      <th>2020-02-06 13:59:00</th>\n",
              "      <td>51.1</td>\n",
              "    </tr>\n",
              "    <tr>\n",
              "      <th>2020-02-06 14:00:00</th>\n",
              "      <td>53.8</td>\n",
              "    </tr>\n",
              "  </tbody>\n",
              "</table>\n",
              "<p>14037 rows × 1 columns</p>\n",
              "</div>"
            ],
            "text/plain": [
              "                     Temperature\n",
              "Time                            \n",
              "2019-11-04 16:50:00         67.5\n",
              "2019-11-04 16:51:00         67.3\n",
              "2019-11-04 16:52:00         67.3\n",
              "2019-11-04 16:53:00         67.3\n",
              "2019-11-04 16:54:00         67.2\n",
              "...                          ...\n",
              "2020-02-06 12:42:00         36.9\n",
              "2020-02-06 13:57:00         44.6\n",
              "2020-02-06 13:58:00         48.4\n",
              "2020-02-06 13:59:00         51.1\n",
              "2020-02-06 14:00:00         53.8\n",
              "\n",
              "[14037 rows x 1 columns]"
            ]
          },
          "metadata": {
            "tags": []
          },
          "execution_count": 16
        }
      ]
    },
    {
      "cell_type": "code",
      "metadata": {
        "id": "QLcyJWskjh1c",
        "colab_type": "code",
        "colab": {}
      },
      "source": [
        "# Replace values below Q1 - (1.5 * IQR) with Q1 i.e.25th Percentile\n",
        "Data.loc[onestConditions[0]] = 38.7 \n",
        "# Replace values above Q3 + (1.5 * IQR) with  Q3 i.e.75th Percentile\n",
        "Data.loc[onestConditions[1]] = 39.9"
      ],
      "execution_count": 0,
      "outputs": []
    },
    {
      "cell_type": "code",
      "metadata": {
        "id": "Ix4YQr6Bmnm4",
        "colab_type": "code",
        "colab": {
          "base_uri": "https://localhost:8080/",
          "height": 113
        },
        "outputId": "e0d5d077-1a0d-4320-c5e4-90a964ba87bf"
      },
      "source": [
        "onestConditions = cleaner.getOutlierBoundaryConditions(Data)\n",
        "Data.loc[onestConditions[0] | onestConditions[1]]"
      ],
      "execution_count": 18,
      "outputs": [
        {
          "output_type": "stream",
          "text": [
            "39.9\n",
            "38.7\n"
          ],
          "name": "stdout"
        },
        {
          "output_type": "execute_result",
          "data": {
            "text/html": [
              "<div>\n",
              "<style scoped>\n",
              "    .dataframe tbody tr th:only-of-type {\n",
              "        vertical-align: middle;\n",
              "    }\n",
              "\n",
              "    .dataframe tbody tr th {\n",
              "        vertical-align: top;\n",
              "    }\n",
              "\n",
              "    .dataframe thead th {\n",
              "        text-align: right;\n",
              "    }\n",
              "</style>\n",
              "<table border=\"1\" class=\"dataframe\">\n",
              "  <thead>\n",
              "    <tr style=\"text-align: right;\">\n",
              "      <th></th>\n",
              "      <th>Temperature</th>\n",
              "    </tr>\n",
              "    <tr>\n",
              "      <th>Time</th>\n",
              "      <th></th>\n",
              "    </tr>\n",
              "  </thead>\n",
              "  <tbody>\n",
              "  </tbody>\n",
              "</table>\n",
              "</div>"
            ],
            "text/plain": [
              "Empty DataFrame\n",
              "Columns: [Temperature]\n",
              "Index: []"
            ]
          },
          "metadata": {
            "tags": []
          },
          "execution_count": 18
        }
      ]
    },
    {
      "cell_type": "code",
      "metadata": {
        "id": "uxVTS5kbmwse",
        "colab_type": "code",
        "colab": {}
      },
      "source": [
        "class Raptorsforecast():\n",
        "  '''\n",
        " 'Enter Model (LR|KNN|DT|SVR|RF)'\n",
        "  '''\n",
        "  models = dict()\n",
        "  dataset = pd.DataFrame()\n",
        "  train_split = 0.70\n",
        "  test_split = 0.30\n",
        "  \n",
        "  def __init__(self,data):\n",
        "    self.dataset = data\n",
        "    self.models['LR'] = LinearRegression()\n",
        "    self.models['KNN'] = KNeighborsRegressor()\n",
        "    self.models['DT'] = DecisionTreeRegressor()\n",
        "    self.models['SVR'] = SVR()\n",
        "    self.models['RF'] = RandomForestRegressor()\n",
        "  \n",
        "  def forecastArima(self,forecast_out):\n",
        "    X = np.array(self.dataset['Temperature'])\n",
        "    X = X[:-forecast_out]\n",
        "    # Actual Values to be forecasted.\n",
        "    y_actual = np.array(self.dataset['Temperature'])\n",
        "    y_actual = y_actual[-forecast_out:]\n",
        "    xlog = pd.DataFrame(np.log(X),columns=['Temperature'])\n",
        "    x_log_shift = xlog - xlog.shift()\n",
        "    x_log_shift.dropna(inplace=True)\n",
        "    model = ARIMA(x_log_shift, order=(1,2,0))\n",
        "    print('Plotting ARIMA model fit')\n",
        "    results_ARIMA = model.fit(disp=-1)\n",
        "    predictions_ARIMA_diff = pd.Series(results_ARIMA.fittedvalues, copy=True)\n",
        "    predictions_ARIMA_diff_cumsum = predictions_ARIMA_diff.cumsum()\n",
        "    predictions_ARIMA_log = pd.Series(xlog['Temperature'].iloc[0], index=xlog.index)\n",
        "    predictions_ARIMA_log = predictions_ARIMA_log.add(predictions_ARIMA_diff_cumsum, fill_value=0)  \n",
        "    predictions_ARIMA = np.exp(predictions_ARIMA_log) - 27\n",
        "    # There is bias in the model, with certain mean, Adjusting for bias is easy: if the residuals have mean  m, then simply add/sub m to all forecasts and the bias problem is solved. \n",
        "    plt.plot()\n",
        "    plt.plot(predictions_ARIMA)\n",
        "    savepic('arima_fitted')\n",
        "    train_fitted = predictions_ARIMA\n",
        "    actual = X\n",
        "    mse = ((train_fitted - actual) ** 2).mean()\n",
        "    print('The Mean Squared Error is {}'.format(round(mse, 2)))\n",
        "    print('The Root Mean Squared Error is {}'.format(round(np.sqrt(mse), 2)))\n",
        "    print('The r-2 value is',metrics.r2_score(actual,train_fitted))\n",
        "    results_ARIMA.plot_predict(133800,133927) \n",
        "    savepic('predict_'+str(forecast_out))\n",
        "    x=results_ARIMA.forecast(steps=forecast_out)\n",
        "    xexp = np.exp(x[1])\n",
        "    mse = ((xexp - y_actual) ** 2).mean()\n",
        "    print('The Mean Squared Error is {}'.format(round(mse, 2)))\n",
        "    print('The Root Mean Squared Error is {}'.format(round(np.sqrt(mse), 2)))\n",
        "    print('The r-2 value is',metrics.r2_score(y_actual,xexp))\n",
        "\n",
        "\n",
        "\n",
        "\n",
        "\n",
        "  def forecastSarima(self,forecast_out):\n",
        "    '''\n",
        "    This method takes two input parameters (dataset,forecast_out)\n",
        "    It prints all the metrics for forecasted and fitted values in the dataset of Seasonal Arima model with Optimal Parameters\n",
        "    Also returns the np.array for next forecasted values and actual values.\n",
        "    '''\n",
        "    print('Forecasting for next '+str(forecast_out))\n",
        "    #Remove the last 'forecast' rows\n",
        "    X = np.array(self.dataset['Temperature'])\n",
        "    X = X[:-forecast_out]\n",
        "    # Actual Values to be forecasted.\n",
        "    y_actual = np.array(self.dataset['Temperature'])\n",
        "    y_actual = y_actual[-forecast_out:] \n",
        "    # Fitting the ARIMA model.\n",
        "    mod = sm.tsa.statespace.SARIMAX(X,\n",
        "                                order=(3, 0, 1),\n",
        "                                seasonal_order=(3,1, 1,1),\n",
        "                                enforce_stationarity=False,\n",
        "                                enforce_invertibility=False)\n",
        "    results = mod.fit()\n",
        "    #dataset.drop(['Pre_'+str(forecast_out)],inplace=True,axis=1)\n",
        "    print(results.summary().tables[1])\n",
        "    d = results.plot_diagnostics(figsize=(20, 8))\n",
        "    savepic('sarima_fit')\n",
        "    plt.show()\n",
        "    x_fitted = results.fittedvalues\n",
        "    # Metrics of RMSE & Mean Absolute Error\n",
        "    print('Data fit metrics')\n",
        "    print('Mean Absolute Error: ',metrics.mean_absolute_error(X,x_fitted))\n",
        "    print('Mean Squared Error: ',metrics.mean_squared_error(X,x_fitted))\n",
        "    print('Root Mean Squared Error: ',np.sqrt(metrics.mean_squared_error(X,x_fitted)))\n",
        "    print('R Square Error (Percentage of Variance explained.)',metrics.r2_score(X,x_fitted))\n",
        "    # Forecasting Using Forecast method\n",
        "    y_forecasted = pd.DataFrame(results.forecast(steps = forecast_out), columns=['Temperature'])\n",
        "    y_forecasted.reset_index(drop=True)\n",
        "    print('Data Forecast metrics')\n",
        "    print('Forecast RMSE ',np.sqrt(metrics.mean_squared_error(y_actual,y_forecasted['Temperature'])))\n",
        "    print('Forecast R Square ',metrics.r2_score(y_actual,y_forecasted['Temperature']))\n",
        "    return y_forecasted,y_actual\n",
        "\n",
        "    \n",
        "  def iterateResults(self,model_type):\n",
        "    outputs_iter = dict()\n",
        "    actual_iter = dict()\n",
        "    if model_type=='linear_regression':\n",
        "      for i in [1,5,10,15,30,60,90,120,150,180]:\n",
        "        print('Results of Linear Regression forecasting next '+str(i)+' values.')\n",
        "        self.machineLearinigModels(i,'LR')\n",
        "        print('#'*20)\n",
        "        print('-'*20)\n",
        "        print('#'*20)\n",
        "    elif model_type == 'sarima':\n",
        "      for i in [1,5,10,15,30,60,90,120,150,180]:\n",
        "        print('Results of SARIMA forecasting next '+str(i)+' values.')\n",
        "        outputf,inputf = self.forecast_sarima(i)\n",
        "        if ((i not in outputs_iter.keys()) and (i not in actual_iter.keys())):\n",
        "          outputs_iter[i] = outputf\n",
        "          actual_iter[i] = inputf\n",
        "      \n",
        "        print('#'*20)\n",
        "        print('-'*20)\n",
        "        print('#'*20)\n",
        "      return outputs_iter,actual_iter\n",
        "    elif model_type=='decision_tree':\n",
        "      for i in [1,5,10,15,30,60,90,120,150,180]:\n",
        "        print('Results of Decision Tree forecasting next '+str(i)+' values.')\n",
        "        self.machineLearinigModels(i,'DT')\n",
        "        print('#'*20)\n",
        "        print('-'*20)\n",
        "        print('#'*20)\n",
        "    elif model_type=='random_forest':\n",
        "      for i in [1,5,10,15,30,60,90,120,150,180]:\n",
        "        print('Results of Random Forest forecasting next '+str(i)+' values.')\n",
        "        self.machineLearinigModels(i,'RF')\n",
        "        print('#'*20)\n",
        "        print('-'*20)\n",
        "        print('#'*20)\n",
        "    elif model_type=='support_vector_regression':\n",
        "      for i in [1,5,10,15,30,60,90,120,150,180]:\n",
        "        print('Results of Support Vector Regression forecasting next '+str(i)+' values.')\n",
        "        self.machineLearinigModels(i,'SVR')\n",
        "        print('#'*20)\n",
        "        print('-'*20)\n",
        "        print('#'*20)\n",
        "    elif model_type=='k_nearest_neighbors':\n",
        "      for i in [1,5,10,15,30,60,90,120,150,180]:\n",
        "        print('Results of K Nearest Neighbors forecasting next '+str(i)+' values.')\n",
        "        self.machineLearinigModels(i,'KNN')\n",
        "        print('#'*20)\n",
        "        print('-'*20)\n",
        "        print('#'*20)\n",
        "    elif model_type=='arima':\n",
        "      for i in [1,5,10,15,30,60,90,120,150,180]:\n",
        "        print('Results of Arima forecasting next '+str(i)+'values.')\n",
        "        self.forecastArima(i)\n",
        "        print('#'*20)\n",
        "        print('-'*20)\n",
        "        print('#'*20)\n",
        "    else:\n",
        "      print(\"Enter valid Model Type !, ('sarima' or 'linear_regression' or 'decision_tree or k_nearest_neighbors','support_vector_regression','random_forest')\")\n",
        "\n",
        "  # def createDataset(self,forecast_out):\n",
        "  #   self.dataset['Pre_'+str(forecast_out)] = self.dataset['Temperature'].shift(-forecast_out)\n",
        "  #   X = np.array(self.dataset.drop(['Pre_'+str(forecast_out)],1))\n",
        "  #   #Remove the last '1' rows\n",
        "  #   X = X[:-forecast_out]\n",
        "  #   y = np.array(self.dataset['Pre_'+str(forecast_out)])\n",
        "  #   # Get all of the y values except the last '1' rows\n",
        "  #   y = y[:-forecast_out] # In order to train the data, we have the target variable ready\n",
        "  #   # Split the data into 80% training and 20% testing\n",
        "  #   self.dataset.drop(['Pre_'+str(forecast_out)],axis=1,inplace=True)\n",
        "  #   return X,y\n",
        "  def create_dataset(self, data,forecast_out):\n",
        "    dataX, dataY = [], []\n",
        "    \n",
        "    for i in range(len(data)-forecast_out):\n",
        "        \n",
        "        a = data[i:(i+forecast_out), 0]        \n",
        "        dataX.append(a)\n",
        "        dataY.append(data[i + forecast_out, 0])\n",
        "    \n",
        "    return np.array(dataX), np.array(dataY)\n",
        "\n",
        "  def minmaxscaler(self):\n",
        "    scaler = MinMaxScaler(feature_range = (0, 1))\n",
        "    scaled = scaler.fit_transform(self.dataset)\n",
        "    train_size = int(len(scaled) * self.train_split)\n",
        "    test_size = len(scaled - train_size)\n",
        "    train, test = scaled[0:train_size, :], scaled[train_size:len(scaled), :]\n",
        "    return train,test\n",
        "  def machineLearinigModels(self,forecast_out,modelname):\n",
        "    '''\n",
        "    This method takes two input parameters (dataset,forecast_out)\n",
        "    It prints all the metrics for forecasted and fitted values in the dataset of regression model with Optimal Parameters\n",
        "    Also returns the np.array for next forecasted values.\n",
        "    '''\n",
        "    train,test = self.minmaxscaler()\n",
        "    X_train, y_train = self.create_dataset(train, forecast_out)\n",
        "    X_test, y_test = self.create_dataset(test, forecast_out)\n",
        "    #X,y = self.createDataset(forecast_out)\n",
        "    #X_train, X_test, y_train, y_test = train_test_split(X, y, test_size=0.3)\n",
        "    # Create and train the Linear Regression  Model\n",
        "    # Train the model\n",
        "    print('Prediction Using ',modelname)\n",
        "    dict_metrics = {}\n",
        "    model = self.models[modelname]\n",
        "    model = model.fit(X_train, y_train)\n",
        "    y_pred_train = model.predict(X_train)\n",
        "    y_pred_test = model.predict(X_test)\n",
        "    mse_train = metrics.mean_squared_error(y_train, y_pred_train)\n",
        "    mse_test  = metrics.mean_squared_error(y_test, y_pred_test)\n",
        "    rmse_train = np.sqrt(mse_train)\n",
        "    rmse_test = np.sqrt(mse_test)\n",
        "    dict_metrics = {\n",
        "        'Values Forecasted' : forecast_out,\n",
        "        'Model Name' : modelname,\n",
        "        'Train RMSE' : rmse_train,\n",
        "        'Train R2 Score' : metrics.r2_score(y_train, y_pred_train),\n",
        "        'Test RMSE' : rmse_test,\n",
        "        'Test R2 Score' : metrics.r2_score(y_test, y_pred_test)\n",
        "                      }\n",
        "    for k,d in dict_metrics.items():\n",
        "      print(str(k)+ ' : '+str(d))\n",
        "  \n",
        "  \n",
        "  \n",
        "  def correlationLag(self):\n",
        "    for i in [1,5,10,15,30,60,90,120,150,180]:\n",
        "      self.dataset['Pre_'+str(i)] = self.dataset['Temperature'].shift(-i)\n",
        "    sns.heatmap(dataset.corr())\n",
        "    plt.show()\n",
        "    for i in [1,5,10,15,30,60,90,120,150,180]:\n",
        "      self.dataset.drop(['Pre_'+str(i)],inplace=True,axis=1)\n",
        "\n",
        "  "
      ],
      "execution_count": 0,
      "outputs": []
    },
    {
      "cell_type": "code",
      "metadata": {
        "id": "lALlKiezm7mc",
        "colab_type": "code",
        "colab": {}
      },
      "source": [
        "# Below are example functions \n",
        "forecast = Raptorsforecast(Data) # Creating object "
      ],
      "execution_count": 0,
      "outputs": []
    },
    {
      "cell_type": "code",
      "metadata": {
        "id": "iH67Jy64nHiz",
        "colab_type": "code",
        "colab": {
          "base_uri": "https://localhost:8080/",
          "height": 136
        },
        "outputId": "43d6e38f-8960-4e1e-9a78-e388d9dd19d2"
      },
      "source": [
        "forecast.machineLearinigModels(10,'LR') # Forecasting metrics for next 10 values using Linear Regression"
      ],
      "execution_count": 25,
      "outputs": [
        {
          "output_type": "stream",
          "text": [
            "Prediction Using  LR\n",
            "Values Forecasted : 10\n",
            "Model Name : LR\n",
            "Train RMSE : 0.07580099229609408\n",
            "Train R2 Score : 0.8370159124439456\n",
            "Test RMSE : 0.07842349826083267\n",
            "Test R2 Score : 0.873433392348593\n"
          ],
          "name": "stdout"
        }
      ]
    },
    {
      "cell_type": "code",
      "metadata": {
        "id": "kTJns-eYnJPa",
        "colab_type": "code",
        "colab": {
          "base_uri": "https://localhost:8080/",
          "height": 136
        },
        "outputId": "ed76aa4f-944b-4b80-a163-f7532e6e549c"
      },
      "source": [
        "forecast.machineLearinigModels(10,'DT') # Forecasting metrics for next 10 values using Decision tree"
      ],
      "execution_count": 26,
      "outputs": [
        {
          "output_type": "stream",
          "text": [
            "Prediction Using  DT\n",
            "Values Forecasted : 10\n",
            "Model Name : DT\n",
            "Train RMSE : 0.0317566458061162\n",
            "Train R2 Score : 0.97139350336981\n",
            "Test RMSE : 0.10035762257516774\n",
            "Test R2 Score : 0.7927342955649919\n"
          ],
          "name": "stdout"
        }
      ]
    },
    {
      "cell_type": "code",
      "metadata": {
        "id": "PluIOD0epQJD",
        "colab_type": "code",
        "colab": {
          "base_uri": "https://localhost:8080/",
          "height": 1000
        },
        "outputId": "d1502993-c13b-49c1-d1d9-7274438acb1b"
      },
      "source": [
        "forecast.iterateResults('linear_regression') # Forecasts values for all window sizes using Linear Regression"
      ],
      "execution_count": 27,
      "outputs": [
        {
          "output_type": "stream",
          "text": [
            "Results of Linear Regression forecasting next 1 values.\n",
            "Prediction Using  LR\n",
            "Values Forecasted : 1\n",
            "Model Name : LR\n",
            "Train RMSE : 0.07704286046164971\n",
            "Train R2 Score : 0.8316215700109095\n",
            "Test RMSE : 0.08068059517511315\n",
            "Test R2 Score : 0.8661213420473213\n",
            "####################\n",
            "--------------------\n",
            "####################\n",
            "Results of Linear Regression forecasting next 5 values.\n",
            "Prediction Using  LR\n",
            "Values Forecasted : 5\n",
            "Model Name : LR\n",
            "Train RMSE : 0.07608422568359971\n",
            "Train R2 Score : 0.8357901333446525\n",
            "Test RMSE : 0.07915710354787896\n",
            "Test R2 Score : 0.8711020259080826\n",
            "####################\n",
            "--------------------\n",
            "####################\n",
            "Results of Linear Regression forecasting next 10 values.\n",
            "Prediction Using  LR\n",
            "Values Forecasted : 10\n",
            "Model Name : LR\n",
            "Train RMSE : 0.07580099229609408\n",
            "Train R2 Score : 0.8370159124439456\n",
            "Test RMSE : 0.07842349826083267\n",
            "Test R2 Score : 0.873433392348593\n",
            "####################\n",
            "--------------------\n",
            "####################\n",
            "Results of Linear Regression forecasting next 15 values.\n",
            "Prediction Using  LR\n",
            "Values Forecasted : 15\n",
            "Model Name : LR\n",
            "Train RMSE : 0.07571497428655181\n",
            "Train R2 Score : 0.8373910643079472\n",
            "Test RMSE : 0.07829777073548842\n",
            "Test R2 Score : 0.8738090349473392\n",
            "####################\n",
            "--------------------\n",
            "####################\n",
            "Results of Linear Regression forecasting next 30 values.\n",
            "Prediction Using  LR\n",
            "Values Forecasted : 30\n",
            "Model Name : LR\n",
            "Train RMSE : 0.07513887822172363\n",
            "Train R2 Score : 0.8398722733908504\n",
            "Test RMSE : 0.07787348613405733\n",
            "Test R2 Score : 0.8751795330046105\n",
            "####################\n",
            "--------------------\n",
            "####################\n",
            "Results of Linear Regression forecasting next 60 values.\n",
            "Prediction Using  LR\n",
            "Values Forecasted : 60\n",
            "Model Name : LR\n",
            "Train RMSE : 0.07458782203466341\n",
            "Train R2 Score : 0.8422441323727168\n",
            "Test RMSE : 0.07798853033837551\n",
            "Test R2 Score : 0.8747932390519814\n",
            "####################\n",
            "--------------------\n",
            "####################\n",
            "Results of Linear Regression forecasting next 90 values.\n",
            "Prediction Using  LR\n",
            "Values Forecasted : 90\n",
            "Model Name : LR\n",
            "Train RMSE : 0.07445379199743332\n",
            "Train R2 Score : 0.8428422315508295\n",
            "Test RMSE : 0.07775112331227287\n",
            "Test R2 Score : 0.8754114635420399\n",
            "####################\n",
            "--------------------\n",
            "####################\n",
            "Results of Linear Regression forecasting next 120 values.\n",
            "Prediction Using  LR\n",
            "Values Forecasted : 120\n",
            "Model Name : LR\n",
            "Train RMSE : 0.07439799832757421\n",
            "Train R2 Score : 0.843118038393301\n",
            "Test RMSE : 0.07765446065217037\n",
            "Test R2 Score : 0.8757122092339209\n",
            "####################\n",
            "--------------------\n",
            "####################\n",
            "Results of Linear Regression forecasting next 150 values.\n",
            "Prediction Using  LR\n",
            "Values Forecasted : 150\n",
            "Model Name : LR\n",
            "Train RMSE : 0.07436330584485543\n",
            "Train R2 Score : 0.8433104635297068\n",
            "Test RMSE : 0.07758168503955241\n",
            "Test R2 Score : 0.8758701547031801\n",
            "####################\n",
            "--------------------\n",
            "####################\n",
            "Results of Linear Regression forecasting next 180 values.\n",
            "Prediction Using  LR\n",
            "Values Forecasted : 180\n",
            "Model Name : LR\n",
            "Train RMSE : 0.07432458556550153\n",
            "Train R2 Score : 0.8435196945463088\n",
            "Test RMSE : 0.07756601090641924\n",
            "Test R2 Score : 0.8758251079654624\n",
            "####################\n",
            "--------------------\n",
            "####################\n"
          ],
          "name": "stdout"
        }
      ]
    },
    {
      "cell_type": "code",
      "metadata": {
        "id": "II-69pjUphca",
        "colab_type": "code",
        "colab": {
          "base_uri": "https://localhost:8080/",
          "height": 919
        },
        "outputId": "0b6d2612-291a-47a2-be41-e98622d8099d"
      },
      "source": [
        "forecasted, actual = forecast.forecastSarima(30)  # Returns the metrics for 30 values and Dataframe for actual 30 values and forecasted 30 values"
      ],
      "execution_count": 30,
      "outputs": [
        {
          "output_type": "stream",
          "text": [
            "Forecasting for next 30\n",
            "==============================================================================\n",
            "                 coef    std err          z      P>|z|      [0.025      0.975]\n",
            "------------------------------------------------------------------------------\n",
            "ar.L1          0.4655      0.028     16.355      0.000       0.410       0.521\n",
            "ar.L2          0.0583      0.002     23.599      0.000       0.053       0.063\n",
            "ar.L3          0.0145      0.001     14.163      0.000       0.013       0.017\n",
            "ma.L1         -0.5491      0.028    -19.355      0.000      -0.605      -0.494\n",
            "ar.S.L1        0.4655      0.028     16.355      0.000       0.410       0.521\n",
            "ar.S.L2        0.0583      0.002     23.599      0.000       0.053       0.063\n",
            "ar.S.L3        0.0145      0.001     14.163      0.000       0.013       0.017\n",
            "ma.S.L1       -0.5491      0.028    -19.355      0.000      -0.605      -0.494\n",
            "sigma2         0.1305      0.000    582.529      0.000       0.130       0.131\n",
            "==============================================================================\n",
            "Do you wanna download the output picture\n",
            "No\n",
            "Thanks for typing\n"
          ],
          "name": "stdout"
        },
        {
          "output_type": "display_data",
          "data": {
            "image/png": "[encoded data removed]",
            "text/plain": [
              "<Figure size 1440x576 with 4 Axes>"
            ]
          },
          "metadata": {
            "tags": []
          }
        },
        {
          "output_type": "stream",
          "text": [
            "Data fit metrics\n",
            "Mean Absolute Error:  0.18994624105487612\n",
            "Mean Squared Error:  0.14500890712602604\n",
            "Root Mean Squared Error:  0.3808003507430449\n",
            "R Square Error (Percentage of Variance explained.) 0.8257085652936006\n",
            "Data Forecast metrics\n",
            "Forecast RMSE  1.2291795294398375\n",
            "Forecast R Square  -0.24171902221237285\n"
          ],
          "name": "stdout"
        }
      ]
    },
    {
      "cell_type": "code",
      "metadata": {
        "id": "vLEzMogFqCrm",
        "colab_type": "code",
        "colab": {}
      },
      "source": [
        "# forecasted, actual = forecast.iterateResults('sarima')  # Returns the metrics for various window sizes and dictonaries with actual and forecasted values for different window sizes."
      ],
      "execution_count": 0,
      "outputs": []
    }
  ]
}