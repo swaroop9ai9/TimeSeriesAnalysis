{
  "nbformat": 4,
  "nbformat_minor": 0,
  "metadata": {
    "accelerator": "GPU",
    "colab": {
      "name": "LSTM_Full_Dataset_600min_Forecast.ipynb",
      "provenance": [],
      "collapsed_sections": []
    },
    "kernelspec": {
      "display_name": "Python 3",
      "language": "python",
      "name": "python3"
    },
    "language_info": {
      "codemirror_mode": {
        "name": "ipython",
        "version": 3
      },
      "file_extension": ".py",
      "mimetype": "text/x-python",
      "name": "python",
      "nbconvert_exporter": "python",
      "pygments_lexer": "ipython3",
      "version": "3.7.3"
    }
  },
  "cells": [
    {
      "cell_type": "code",
      "metadata": {
        "colab_type": "code",
        "id": "zO_16biBU5zg",
        "colab": {
          "base_uri": "https://localhost:8080/",
          "height": 125
        },
        "outputId": "55ffa856-4e26-47bb-ff60-d24c3006da7c"
      },
      "source": [
        "from google.colab import drive\n",
        "drive.mount('/gdrive',force_remount=True)"
      ],
      "execution_count": 2,
      "outputs": [
        {
          "output_type": "stream",
          "text": [
            "Go to this URL in a browser: https://accounts.google.com/o/oauth2/auth?client_id=947318989803-6bn6qk8qdgf4n4g3pfee6491hc0brc4i.apps.googleusercontent.com&redirect_uri=urn%3aietf%3awg%3aoauth%3a2.0%3aoob&scope=email%20https%3a%2f%2fwww.googleapis.com%2fauth%2fdocs.test%20https%3a%2f%2fwww.googleapis.com%2fauth%2fdrive%20https%3a%2f%2fwww.googleapis.com%2fauth%2fdrive.photos.readonly%20https%3a%2f%2fwww.googleapis.com%2fauth%2fpeopleapi.readonly&response_type=code\n",
            "\n",
            "Enter your authorization code:\n",
            "··········\n",
            "Mounted at /gdrive\n"
          ],
          "name": "stdout"
        }
      ]
    },
    {
      "cell_type": "markdown",
      "metadata": {
        "colab_type": "text",
        "id": "v0HqYwfeVjZz"
      },
      "source": [
        "## **1. Import Necessary packages**"
      ]
    },
    {
      "cell_type": "code",
      "metadata": {
        "colab_type": "code",
        "id": "Ky9MbNjBVbC2",
        "colab": {}
      },
      "source": [
        "import numpy as np\n",
        "import pandas as pd\n",
        "from pandas import Grouper\n",
        "import matplotlib.pyplot as plt\n",
        "\n",
        "from sklearn.preprocessing import StandardScaler, MinMaxScaler\n",
        "from sklearn.model_selection import train_test_split\n",
        "from sklearn.impute import KNNImputer\n",
        "from sklearn.metrics import r2_score, mean_squared_error, mean_absolute_error\n",
        "\n",
        "import tensorflow as tf"
      ],
      "execution_count": 3,
      "outputs": []
    },
    {
      "cell_type": "markdown",
      "metadata": {
        "colab_type": "text",
        "id": "7tZFSSbHW36E"
      },
      "source": [
        "## **2. Read the Dataset**"
      ]
    },
    {
      "cell_type": "code",
      "metadata": {
        "id": "Ow38LOStSy7M",
        "colab_type": "code",
        "colab": {}
      },
      "source": [
        "#path_to_files='/gdrive/My Drive/CapstoneProject/Full_Dataset/'\n",
        "path_to_results='/gdrive/My Drive/Capstone/Saved_Models/'\n",
        "\n",
        "path_to_files='/gdrive/My Drive/Capstone/Full_Dataset/'"
      ],
      "execution_count": 4,
      "outputs": []
    },
    {
      "cell_type": "code",
      "metadata": {
        "colab_type": "code",
        "id": "BP4yUJbpV9gi",
        "colab": {}
      },
      "source": [
        "# Load the datasets\n",
        "data = pd.read_csv(path_to_files + 'Full_Dataset.csv')"
      ],
      "execution_count": 5,
      "outputs": []
    },
    {
      "cell_type": "code",
      "metadata": {
        "id": "qYX2Orjr8rVs",
        "colab_type": "code",
        "colab": {
          "base_uri": "https://localhost:8080/",
          "height": 34
        },
        "outputId": "412698d7-da59-4ea1-9ffc-12ca207d8f2f"
      },
      "source": [
        "# Shape of dataset\n",
        "print('Shape of Dataset : ',str(data.shape))"
      ],
      "execution_count": 6,
      "outputs": [
        {
          "output_type": "stream",
          "text": [
            "Shape of Dataset :  (560061, 4)\n"
          ],
          "name": "stdout"
        }
      ]
    },
    {
      "cell_type": "code",
      "metadata": {
        "id": "hIRJmwal9RZo",
        "colab_type": "code",
        "colab": {
          "base_uri": "https://localhost:8080/",
          "height": 105
        },
        "outputId": "702495ea-29c7-4991-c82d-082692c6668a"
      },
      "source": [
        "# Check datatypes\n",
        "data.dtypes"
      ],
      "execution_count": 7,
      "outputs": [
        {
          "output_type": "execute_result",
          "data": {
            "text/plain": [
              "Date                object\n",
              "Time                object\n",
              "Zone                object\n",
              "Temperature (F)    float64\n",
              "dtype: object"
            ]
          },
          "metadata": {
            "tags": []
          },
          "execution_count": 7
        }
      ]
    },
    {
      "cell_type": "code",
      "metadata": {
        "colab_type": "code",
        "id": "mkviIdA8YTAv",
        "colab": {
          "base_uri": "https://localhost:8080/",
          "height": 195
        },
        "outputId": "0f91b4b0-82e2-44ff-bd87-ecb98c8ae0a5"
      },
      "source": [
        "data.head()"
      ],
      "execution_count": 8,
      "outputs": [
        {
          "output_type": "execute_result",
          "data": {
            "text/html": [
              "<div>\n",
              "<style scoped>\n",
              "    .dataframe tbody tr th:only-of-type {\n",
              "        vertical-align: middle;\n",
              "    }\n",
              "\n",
              "    .dataframe tbody tr th {\n",
              "        vertical-align: top;\n",
              "    }\n",
              "\n",
              "    .dataframe thead th {\n",
              "        text-align: right;\n",
              "    }\n",
              "</style>\n",
              "<table border=\"1\" class=\"dataframe\">\n",
              "  <thead>\n",
              "    <tr style=\"text-align: right;\">\n",
              "      <th></th>\n",
              "      <th>Date</th>\n",
              "      <th>Time</th>\n",
              "      <th>Zone</th>\n",
              "      <th>Temperature (F)</th>\n",
              "    </tr>\n",
              "  </thead>\n",
              "  <tbody>\n",
              "    <tr>\n",
              "      <th>0</th>\n",
              "      <td>2019-11-04</td>\n",
              "      <td>16:50</td>\n",
              "      <td>EST</td>\n",
              "      <td>67.5</td>\n",
              "    </tr>\n",
              "    <tr>\n",
              "      <th>1</th>\n",
              "      <td>2019-11-04</td>\n",
              "      <td>16:51</td>\n",
              "      <td>EST</td>\n",
              "      <td>67.3</td>\n",
              "    </tr>\n",
              "    <tr>\n",
              "      <th>2</th>\n",
              "      <td>2019-11-04</td>\n",
              "      <td>16:52</td>\n",
              "      <td>EST</td>\n",
              "      <td>67.3</td>\n",
              "    </tr>\n",
              "    <tr>\n",
              "      <th>3</th>\n",
              "      <td>2019-11-04</td>\n",
              "      <td>16:53</td>\n",
              "      <td>EST</td>\n",
              "      <td>67.3</td>\n",
              "    </tr>\n",
              "    <tr>\n",
              "      <th>4</th>\n",
              "      <td>2019-11-04</td>\n",
              "      <td>16:54</td>\n",
              "      <td>EST</td>\n",
              "      <td>67.2</td>\n",
              "    </tr>\n",
              "  </tbody>\n",
              "</table>\n",
              "</div>"
            ],
            "text/plain": [
              "         Date   Time Zone  Temperature (F)\n",
              "0  2019-11-04  16:50  EST             67.5\n",
              "1  2019-11-04  16:51  EST             67.3\n",
              "2  2019-11-04  16:52  EST             67.3\n",
              "3  2019-11-04  16:53  EST             67.3\n",
              "4  2019-11-04  16:54  EST             67.2"
            ]
          },
          "metadata": {
            "tags": []
          },
          "execution_count": 8
        }
      ]
    },
    {
      "cell_type": "code",
      "metadata": {
        "colab_type": "code",
        "id": "Zdbiz7Bit73q",
        "colab": {
          "base_uri": "https://localhost:8080/",
          "height": 195
        },
        "outputId": "60e02728-9674-4ddc-dde7-f7f9f26b5cb4"
      },
      "source": [
        "data.tail()"
      ],
      "execution_count": 9,
      "outputs": [
        {
          "output_type": "execute_result",
          "data": {
            "text/html": [
              "<div>\n",
              "<style scoped>\n",
              "    .dataframe tbody tr th:only-of-type {\n",
              "        vertical-align: middle;\n",
              "    }\n",
              "\n",
              "    .dataframe tbody tr th {\n",
              "        vertical-align: top;\n",
              "    }\n",
              "\n",
              "    .dataframe thead th {\n",
              "        text-align: right;\n",
              "    }\n",
              "</style>\n",
              "<table border=\"1\" class=\"dataframe\">\n",
              "  <thead>\n",
              "    <tr style=\"text-align: right;\">\n",
              "      <th></th>\n",
              "      <th>Date</th>\n",
              "      <th>Time</th>\n",
              "      <th>Zone</th>\n",
              "      <th>Temperature (F)</th>\n",
              "    </tr>\n",
              "  </thead>\n",
              "  <tbody>\n",
              "    <tr>\n",
              "      <th>560056</th>\n",
              "      <td>2020-01-27</td>\n",
              "      <td>22:34</td>\n",
              "      <td>EST</td>\n",
              "      <td>43.2</td>\n",
              "    </tr>\n",
              "    <tr>\n",
              "      <th>560057</th>\n",
              "      <td>2020-01-27</td>\n",
              "      <td>22:35</td>\n",
              "      <td>EST</td>\n",
              "      <td>43.0</td>\n",
              "    </tr>\n",
              "    <tr>\n",
              "      <th>560058</th>\n",
              "      <td>2020-01-27</td>\n",
              "      <td>22:36</td>\n",
              "      <td>EST</td>\n",
              "      <td>43.7</td>\n",
              "    </tr>\n",
              "    <tr>\n",
              "      <th>560059</th>\n",
              "      <td>2020-01-27</td>\n",
              "      <td>22:37</td>\n",
              "      <td>EST</td>\n",
              "      <td>43.2</td>\n",
              "    </tr>\n",
              "    <tr>\n",
              "      <th>560060</th>\n",
              "      <td>2020-01-27</td>\n",
              "      <td>22:38</td>\n",
              "      <td>EST</td>\n",
              "      <td>43.2</td>\n",
              "    </tr>\n",
              "  </tbody>\n",
              "</table>\n",
              "</div>"
            ],
            "text/plain": [
              "              Date   Time Zone  Temperature (F)\n",
              "560056  2020-01-27  22:34  EST             43.2\n",
              "560057  2020-01-27  22:35  EST             43.0\n",
              "560058  2020-01-27  22:36  EST             43.7\n",
              "560059  2020-01-27  22:37  EST             43.2\n",
              "560060  2020-01-27  22:38  EST             43.2"
            ]
          },
          "metadata": {
            "tags": []
          },
          "execution_count": 9
        }
      ]
    },
    {
      "cell_type": "markdown",
      "metadata": {
        "colab_type": "text",
        "id": "bJoZDDkEcAvU"
      },
      "source": [
        "## **3. Find Missing (or) Null Values**  "
      ]
    },
    {
      "cell_type": "code",
      "metadata": {
        "colab_type": "code",
        "id": "ELkny0Jrb6ei",
        "colab": {
          "base_uri": "https://localhost:8080/",
          "height": 105
        },
        "outputId": "05663942-6edb-4e12-cf12-e30defcec529"
      },
      "source": [
        "data.isnull().sum()"
      ],
      "execution_count": 10,
      "outputs": [
        {
          "output_type": "execute_result",
          "data": {
            "text/plain": [
              "Date               0\n",
              "Time               0\n",
              "Zone               0\n",
              "Temperature (F)    0\n",
              "dtype: int64"
            ]
          },
          "metadata": {
            "tags": []
          },
          "execution_count": 10
        }
      ]
    },
    {
      "cell_type": "markdown",
      "metadata": {
        "id": "2NPJG1rRJ2eo",
        "colab_type": "text"
      },
      "source": [
        "## **3. Drop columns not used in model Building**  "
      ]
    },
    {
      "cell_type": "code",
      "metadata": {
        "id": "FB7am-hUJwTI",
        "colab_type": "code",
        "colab": {}
      },
      "source": [
        "data.drop(['Date', 'Time', 'Zone'], axis = 1, inplace=True)"
      ],
      "execution_count": 11,
      "outputs": []
    },
    {
      "cell_type": "markdown",
      "metadata": {
        "id": "xbFevxXhFF2P",
        "colab_type": "text"
      },
      "source": [
        "## **4. Model building using LSTM**"
      ]
    },
    {
      "cell_type": "markdown",
      "metadata": {
        "colab_type": "text",
        "id": "Yj4H73-Rszlq"
      },
      "source": [
        "####  Create training and test datasets by Standardising the input"
      ]
    },
    {
      "cell_type": "code",
      "metadata": {
        "colab_type": "code",
        "id": "BaMaqw-BLAF4",
        "colab": {}
      },
      "source": [
        "def scale_and_split_dataset(scaled):\n",
        "\n",
        "  #70% examples will used for training (in the begining)\n",
        "  train_size = int(len(scaled) * 0.70)\n",
        "\n",
        "  #30% will be used for Test\n",
        "  test_size = len(scaled) - train_size\n",
        "\n",
        "  #print('train_size = {}, test_size = {}'.format(train_size, test_size))\n",
        "  #Split the data\n",
        "  train, test = scaled[0:train_size, :], scaled[train_size: len(scaled), :]\n",
        "  #print('train: {}\\ntest: {}'.format(len(train), len(test)))\n",
        "  print(\"Train data shape is\",train.shape)\n",
        "  print(\"Test data shape is\",test.shape)\n",
        "\n",
        "  return train, test"
      ],
      "execution_count": 12,
      "outputs": []
    },
    {
      "cell_type": "markdown",
      "metadata": {
        "id": "LTbNGpX6g_MJ",
        "colab_type": "text"
      },
      "source": [
        "####  Create X and y based on window_size"
      ]
    },
    {
      "cell_type": "code",
      "metadata": {
        "colab_type": "code",
        "id": "gUSZGooM3Vhi",
        "colab": {}
      },
      "source": [
        "#window - how long the sequence will be\n",
        "def create_dataset(dataset, window=1):    \n",
        "    dataX, dataY = [], []\n",
        "    \n",
        "    for i in range(len(dataset)-window):       \n",
        "        a = dataset[i:(i+window), 0]        \n",
        "        dataX.append(a)\n",
        "        dataY.append(dataset[i + window, 0])\n",
        "    \n",
        "    return np.array(dataX), np.array(dataY)"
      ],
      "execution_count": 13,
      "outputs": []
    },
    {
      "cell_type": "markdown",
      "metadata": {
        "id": "EPVDZJnY6OF2",
        "colab_type": "text"
      },
      "source": [
        "#### Make data 3 dimensional for LSTM input"
      ]
    },
    {
      "cell_type": "code",
      "metadata": {
        "id": "qrzTMDKXhRWm",
        "colab_type": "code",
        "colab": {}
      },
      "source": [
        "def make_3dim(X_train, X_test):\n",
        "  #make it 3 Dimensional Data - needed for LSTM\n",
        "  X_train = np.reshape(X_train, (X_train.shape[0], X_train.shape[1], 1))\n",
        "  X_test = np.reshape(X_test, (X_test.shape[0], X_test.shape[1], 1))\n",
        "  print(\"Shape of X_train and X_test after reshaping into (length of input, no of time steps, no of features)\")\n",
        "  print(X_train.shape)\n",
        "  print(X_test.shape)\n",
        "\n",
        "  return X_train, X_test"
      ],
      "execution_count": 14,
      "outputs": []
    },
    {
      "cell_type": "markdown",
      "metadata": {
        "id": "PvwP0IMFoMNe",
        "colab_type": "text"
      },
      "source": [
        "#### Build and compile LSTM model using NADAM optimizer"
      ]
    },
    {
      "cell_type": "code",
      "metadata": {
        "id": "MwYI6sL4is8R",
        "colab_type": "code",
        "colab": {}
      },
      "source": [
        "def build_and_compile_model(units=256, dropout=0.15, window_size=1):\n",
        "  \n",
        "  tf.keras.backend.clear_session()\n",
        "  model = tf.keras.Sequential()\n",
        "  model.add(tf.keras.layers.LSTM(units=units, activation='relu', input_shape=(window_size, 1)))\n",
        "  model.add(tf.keras.layers.BatchNormalization())\n",
        "  model.add(tf.keras.layers.Dropout(dropout))\n",
        "  model.add(tf.keras.layers.Dense(1))\n",
        "  model.compile(optimizer='Nadam', loss='mse')\n",
        "\n",
        "  return model"
      ],
      "execution_count": 15,
      "outputs": []
    },
    {
      "cell_type": "markdown",
      "metadata": {
        "id": "cA50qcMnS1WW",
        "colab_type": "text"
      },
      "source": [
        "### Call back to save best model with least loss"
      ]
    },
    {
      "cell_type": "code",
      "metadata": {
        "id": "hxgZ3HcSTNbY",
        "colab_type": "code",
        "colab": {}
      },
      "source": [
        "# Add model checkpoint to save the best model weights.The best model is one with least validation loss\n",
        "def call_back(window_size):\n",
        "  if window_size == 60:\n",
        "    LSTMcheckpoint_path = \"/content/drive/My Drive/Capstone/Saved_Models/lstm_full_dataset_60min.ckpt\"\n",
        "  elif window_size == 120:\n",
        "    LSTMcheckpoint_path = \"/content/drive/My Drive/Capstone/Saved_Models/lstm_full_dataset_120min.ckpt\"\n",
        "  elif window_size == 180:\n",
        "    LSTMcheckpoint_path = \"/content/drive/My Drive/Capstone/Saved_Models/lstm_full_dataset_180min.ckpt\"\n",
        "  else:\n",
        "    LSTMcheckpoint_path = \"/content/drive/My Drive/Capstone/Saved_Models/lstm_full_dataset_600min.ckpt\"\n",
        "  \n",
        "  cp_callback = tf.keras.callbacks.ModelCheckpoint(filepath=LSTMcheckpoint_path,\n",
        "                                                 save_weights_only=True,\n",
        "                                                 monitor='val_loss',\n",
        "                                                 mode = 'min',\n",
        "                                                 save_best_only=True,\n",
        "                                                 verbose=1)\n",
        "\n",
        "  return LSTMcheckpoint_path, cp_callback"
      ],
      "execution_count": 16,
      "outputs": []
    },
    {
      "cell_type": "markdown",
      "metadata": {
        "id": "DM27ax8HoWmW",
        "colab_type": "text"
      },
      "source": [
        "#### Find Predictions using train and test data"
      ]
    },
    {
      "cell_type": "code",
      "metadata": {
        "id": "SqczJdPTof9m",
        "colab_type": "code",
        "colab": {}
      },
      "source": [
        "def make_predictions(model, X_train, X_test):\n",
        "  return model.predict(X_train), model.predict(X_test)"
      ],
      "execution_count": 17,
      "outputs": []
    },
    {
      "cell_type": "markdown",
      "metadata": {
        "id": "Z8tYHy_JpIia",
        "colab_type": "text"
      },
      "source": [
        "#### Find metrics - mse, rmse, mae, r2_score"
      ]
    },
    {
      "cell_type": "code",
      "metadata": {
        "id": "9A2DRbZin4rO",
        "colab_type": "code",
        "colab": {}
      },
      "source": [
        "def find_metrics(trainPredict, testPredict, y_train, y_test, window_size):\n",
        "  \n",
        "  train_mse = mean_squared_error(y_train, trainPredict)\n",
        "  train_rmse = np.sqrt(train_mse)\n",
        "  train_mae = mean_absolute_error(y_train, trainPredict)\n",
        "  train_r2 = r2_score(y_train, trainPredict)\n",
        "\n",
        "  test_mse = mean_squared_error(y_test, testPredict)\n",
        "  test_rmse = np.sqrt(test_mse)\n",
        "  test_mae = mean_absolute_error(y_test, testPredict)\n",
        "  test_r2 = r2_score(y_test, testPredict)\n",
        "\n",
        "  print(\"Metrics for train and test datasets:\\n\")\n",
        "  print(\"train_mse = \", train_mse)\n",
        "  print(\"test_mse = \", test_mse)\n",
        "\n",
        "  print(\"\\ntrain_rmse = \", train_rmse)\n",
        "  print(\"test_rmse = \", test_rmse)\n",
        "\n",
        "  print(\"\\ntrain_mae = \", train_mae)\n",
        "  print(\"test_mae = \", test_mae)\n",
        "\n",
        "  print(\"\\ntrain_r2 = \", train_r2)\n",
        "  print(\"test_r2 = \", test_r2)\n",
        "\n",
        "  dict_metrics = {\n",
        "                    'Window Size' : [window_size],\n",
        "                    'Model Name' : ['LSTM'], \n",
        "                    'Train MAE' : [round(train_mae, 4)],\n",
        "                    'Test MAE' : [round(test_mae, 4)],\n",
        "                    'Train MSE' : [round(train_mse, 4)],  \n",
        "                    'Test MSE' : [round(test_mse, 4)],                \n",
        "                    'Train RMSE' : [round(train_rmse, 4)],\n",
        "                    'Test RMSE' : [round(test_rmse, 4)],\n",
        "                    'Train R2 Score' : [round(train_r2, 4)],                    \n",
        "                    'Test R2 Score' : [round(test_r2, 4)]\n",
        "                  }\n",
        "  metrics_df = pd.DataFrame(dict_metrics)\n",
        "  return metrics_df"
      ],
      "execution_count": 18,
      "outputs": []
    },
    {
      "cell_type": "markdown",
      "metadata": {
        "id": "tdeyqpWp59Ol",
        "colab_type": "text"
      },
      "source": [
        "#### Inverse transform the scaled data"
      ]
    },
    {
      "cell_type": "code",
      "metadata": {
        "id": "NlIgBnfk3PgL",
        "colab_type": "code",
        "colab": {}
      },
      "source": [
        "def inverse_transform(trainPredict, testPredict, scaler):\n",
        "  return scaler.inverse_transform(trainPredict), scaler.inverse_transform(testPredict)"
      ],
      "execution_count": 19,
      "outputs": []
    },
    {
      "cell_type": "markdown",
      "metadata": {
        "id": "JN3b2CE27KqF",
        "colab_type": "text"
      },
      "source": [
        "#### Plot baseline, train and test predicted data"
      ]
    },
    {
      "cell_type": "code",
      "metadata": {
        "id": "JjO6hKIo578X",
        "colab_type": "code",
        "colab": {}
      },
      "source": [
        "def plot_predictions(scaled, scaler, trainPredict_inverse, testPredict_inverse, window_size=1):\n",
        "\n",
        "  trainPredict = trainPredict_inverse\n",
        "  testPredict = testPredict_inverse\n",
        "\n",
        "  # shift train predictions for plotting\n",
        "  trainPredictPlot = np.empty_like(scaled)\n",
        "  trainPredictPlot[:, :] = np.nan\n",
        "  trainPredictPlot[window_size:len(trainPredict)+window_size, :] = trainPredict\n",
        "  \n",
        "  # shift test predictions for plotting\n",
        "  testPredictPlot = np.empty_like(scaled)\n",
        "  testPredictPlot[:, :] = np.nan\n",
        "  testPredictPlot[len(trainPredict)+(window_size*2):len(scaled), :] = testPredict\n",
        "\n",
        "  # plot baseline, trainPredict and testPredict\n",
        "  plt.figure(figsize=(10,5))\n",
        "  labels = ['baseline', 'trainPredict', 'testPredict']\n",
        "\n",
        "  #baseline plot\n",
        "  plt.plot(scaler.inverse_transform(scaled), color='black')\n",
        "\n",
        "  \n",
        "  #Train Predicted Plot\n",
        "  plt.plot(trainPredictPlot, color='deepskyblue')\n",
        "\n",
        "  #Test Predicted Plot\n",
        "  plt.plot(testPredictPlot, color='darkorange')\n",
        "  \n",
        "  plt.legend(labels)\n",
        "  plt.show()"
      ],
      "execution_count": 20,
      "outputs": []
    },
    {
      "cell_type": "markdown",
      "metadata": {
        "id": "CwtzAxdFmJJY",
        "colab_type": "text"
      },
      "source": [
        "### Build LSTM Model using NADAM optimizer"
      ]
    },
    {
      "cell_type": "code",
      "metadata": {
        "id": "J6hJ5tgg43JN",
        "colab_type": "code",
        "colab": {}
      },
      "source": [
        "#Normalize using StandarScaler\n",
        "scaler = StandardScaler()\n",
        "scaled = scaler.fit_transform(data)\n",
        "\n",
        "#Normalize using MinMax Scaler\n",
        "minmax_scaler = MinMaxScaler()\n",
        "minmax_scaled = minmax_scaler.fit_transform(data)"
      ],
      "execution_count": 22,
      "outputs": []
    },
    {
      "cell_type": "code",
      "metadata": {
        "id": "0ULE00ioTx-r",
        "colab_type": "code",
        "colab": {}
      },
      "source": [
        "#initialize parameters\n",
        "epochs = 5\n",
        "batch_size = 64\n",
        "units=256\n",
        "dropout=0.15"
      ],
      "execution_count": 23,
      "outputs": []
    },
    {
      "cell_type": "markdown",
      "metadata": {
        "id": "IPL2-AyfGnOX",
        "colab_type": "text"
      },
      "source": [
        "### 600 Min Prediction"
      ]
    },
    {
      "cell_type": "code",
      "metadata": {
        "id": "r6fWQQbxGrXm",
        "colab_type": "code",
        "colab": {
          "base_uri": "https://localhost:8080/",
          "height": 545
        },
        "outputId": "2092d73f-835a-48da-b0de-6bdf18fccb54"
      },
      "source": [
        "#initialize window_size\n",
        "window_size = 600\n",
        "\n",
        "#split the data into test and train\n",
        "train, test = scale_and_split_dataset(scaled)\n",
        "\n",
        "#Create Input and Output\n",
        "X_train, y_train = create_dataset(train, window_size)\n",
        "X_test, y_test = create_dataset(test, window_size)\n",
        "print('X_train shape is {}, y_train shape is {}'.format(X_train.shape, y_train.shape))\n",
        "print('X_test shape is {}, y_test shape is {}'.format(X_test.shape, y_test.shape))\n",
        "\n",
        "#make data 3 dimensional for LSTM\n",
        "X_train, X_test = make_3dim(X_train, X_test)\n",
        "print(X_train[0,0:3,0])\n",
        "print(X_test[0,0:3,0])\n",
        "\n",
        "#Build and compile the model\n",
        "model_600min = build_and_compile_model(units=units, dropout=dropout, window_size=window_size)\n",
        "\n",
        "#Add model checkpoint to save the best model weights.The best model is one with least validation loss\n",
        "LSTMcheckpoint_path, cp_callback_600min = call_back(window_size)\n",
        "\n",
        "#fit the model\n",
        "history_model_600min = model_600min.fit(X_train, y_train, \n",
        "                                      validation_data=(X_test, y_test), \n",
        "                                      epochs=epochs, batch_size=batch_size, \n",
        "                                      callbacks=[cp_callback_600min])"
      ],
      "execution_count": 27,
      "outputs": [
        {
          "output_type": "stream",
          "text": [
            "Train data shape is (392042, 1)\n",
            "Test data shape is (168019, 1)\n",
            "X_train shape is (391442, 600), y_train shape is (391442,)\n",
            "X_test shape is (167419, 600), y_test shape is (167419,)\n",
            "Shape of X_train and X_test after reshaping into (length of input, no of time steps, no of features)\n",
            "(391442, 600, 1)\n",
            "(167419, 600, 1)\n",
            "[4.35361534 4.32151148 4.32151148]\n",
            "[-0.83115826 -0.91141792 -0.94352178]\n",
            "WARNING:tensorflow:Layer lstm will not use cuDNN kernel since it doesn't meet the cuDNN kernel criteria. It will use generic GPU kernel as fallback when running on GPU\n",
            "Epoch 1/5\n",
            "6117/6117 [==============================] - ETA: 0s - loss: 0.0424\n",
            "Epoch 00001: val_loss improved from inf to 0.01152, saving model to /content/drive/My Drive/Capstone/Saved_Models/lstm_full_dataset_600min.ckpt\n",
            "6117/6117 [==============================] - 4754s 777ms/step - loss: 0.0424 - val_loss: 0.0115\n",
            "Epoch 2/5\n",
            "6117/6117 [==============================] - ETA: 0s - loss: 0.0345\n",
            "Epoch 00002: val_loss did not improve from 0.01152\n",
            "6117/6117 [==============================] - 4780s 781ms/step - loss: 0.0345 - val_loss: 0.0133\n",
            "Epoch 3/5\n",
            "6117/6117 [==============================] - ETA: 0s - loss: 0.0348\n",
            "Epoch 00003: val_loss improved from 0.01152 to 0.00919, saving model to /content/drive/My Drive/Capstone/Saved_Models/lstm_full_dataset_600min.ckpt\n",
            "6117/6117 [==============================] - 4787s 783ms/step - loss: 0.0348 - val_loss: 0.0092\n",
            "Epoch 4/5\n",
            "6117/6117 [==============================] - ETA: 0s - loss: 0.0343\n",
            "Epoch 00004: val_loss improved from 0.00919 to 0.00865, saving model to /content/drive/My Drive/Capstone/Saved_Models/lstm_full_dataset_600min.ckpt\n",
            "6117/6117 [==============================] - 4746s 776ms/step - loss: 0.0343 - val_loss: 0.0087\n",
            "Epoch 5/5\n",
            "6117/6117 [==============================] - ETA: 0s - loss: 0.0338\n",
            "Epoch 00005: val_loss did not improve from 0.00865\n",
            "6117/6117 [==============================] - 4729s 773ms/step - loss: 0.0338 - val_loss: 0.0087\n"
          ],
          "name": "stdout"
        }
      ]
    },
    {
      "cell_type": "code",
      "metadata": {
        "id": "NAYA2KCFfWr_",
        "colab_type": "code",
        "colab": {
          "base_uri": "https://localhost:8080/",
          "height": 35
        },
        "outputId": "6a149c80-154d-4b55-fc84-040b160d7339"
      },
      "source": [
        "LSTMcheckpoint_path"
      ],
      "execution_count": 28,
      "outputs": [
        {
          "output_type": "execute_result",
          "data": {
            "application/vnd.google.colaboratory.intrinsic+json": {
              "type": "string"
            },
            "text/plain": [
              "'/content/drive/My Drive/Capstone/Saved_Models/lstm_full_dataset_600min.ckpt'"
            ]
          },
          "metadata": {
            "tags": []
          },
          "execution_count": 28
        }
      ]
    },
    {
      "cell_type": "code",
      "metadata": {
        "id": "7qA1Q0gTP4tL",
        "colab_type": "code",
        "colab": {
          "base_uri": "https://localhost:8080/",
          "height": 552
        },
        "outputId": "45b9d39a-b270-4f63-e778-7e40ca8e891a"
      },
      "source": [
        "#load the saved weights for best model with least accuracy\n",
        "model_600min.load_weights(LSTMcheckpoint_path)\n",
        "#cp \"/gdrive/My Drive/Capstone/Saved_Models/lstm_full_dataset_600min.ckpt\" \n",
        "\n",
        "#make predictions\n",
        "trainPredict, testPredict = make_predictions(model_600min, X_train, X_test)\n",
        "\n",
        "#find_metrics\n",
        "window_600_df = find_metrics(trainPredict, testPredict, y_train, y_test, window_size)\n",
        "\n",
        "#inverse scaled data\n",
        "trainPredict_inverse, testPredict_inverse = inverse_transform(trainPredict, testPredict, scaler)\n",
        "\n",
        "#plot predictions with respect to baseline\n",
        "plot_predictions(scaled, scaler, trainPredict_inverse, testPredict_inverse, window_size=window_size)\n",
        "\n",
        "#save the results\n",
        "window_600_df.to_excel(path_to_results + 'LSTM_Full_Dataset_600min_Results.xlsx', index=False)"
      ],
      "execution_count": 29,
      "outputs": [
        {
          "output_type": "stream",
          "text": [
            "Metrics for train and test datasets:\n",
            "\n",
            "train_mse =  0.013269594933313698\n",
            "test_mse =  0.008652108319141079\n",
            "\n",
            "train_rmse =  0.11519372783842746\n",
            "test_rmse =  0.09301670989204616\n",
            "\n",
            "train_mae =  0.05382964741690575\n",
            "test_mae =  0.05083193810379347\n",
            "\n",
            "train_r2 =  0.9885389654654602\n",
            "test_r2 =  0.9855212079423066\n"
          ],
          "name": "stdout"
        },
        {
          "output_type": "display_data",
          "data": {
            "image/png": "[encoded data removed]",
            "text/plain": [
              "<Figure size 720x360 with 1 Axes>"
            ]
          },
          "metadata": {
            "tags": [],
            "needs_background": "light"
          }
        }
      ]
    },
    {
      "cell_type": "markdown",
      "metadata": {
        "id": "PvG4FDlTmafN",
        "colab_type": "text"
      },
      "source": [
        "## Outliers in Full Data"
      ]
    },
    {
      "cell_type": "code",
      "metadata": {
        "id": "8tGuovLW1ZqI",
        "colab_type": "code",
        "colab": {
          "base_uri": "https://localhost:8080/",
          "height": 195
        },
        "outputId": "ede15394-e8f8-493e-b9c0-c2f3ca629fc0"
      },
      "source": [
        "data.head()"
      ],
      "execution_count": 30,
      "outputs": [
        {
          "output_type": "execute_result",
          "data": {
            "text/html": [
              "<div>\n",
              "<style scoped>\n",
              "    .dataframe tbody tr th:only-of-type {\n",
              "        vertical-align: middle;\n",
              "    }\n",
              "\n",
              "    .dataframe tbody tr th {\n",
              "        vertical-align: top;\n",
              "    }\n",
              "\n",
              "    .dataframe thead th {\n",
              "        text-align: right;\n",
              "    }\n",
              "</style>\n",
              "<table border=\"1\" class=\"dataframe\">\n",
              "  <thead>\n",
              "    <tr style=\"text-align: right;\">\n",
              "      <th></th>\n",
              "      <th>Temperature (F)</th>\n",
              "    </tr>\n",
              "  </thead>\n",
              "  <tbody>\n",
              "    <tr>\n",
              "      <th>0</th>\n",
              "      <td>67.5</td>\n",
              "    </tr>\n",
              "    <tr>\n",
              "      <th>1</th>\n",
              "      <td>67.3</td>\n",
              "    </tr>\n",
              "    <tr>\n",
              "      <th>2</th>\n",
              "      <td>67.3</td>\n",
              "    </tr>\n",
              "    <tr>\n",
              "      <th>3</th>\n",
              "      <td>67.3</td>\n",
              "    </tr>\n",
              "    <tr>\n",
              "      <th>4</th>\n",
              "      <td>67.2</td>\n",
              "    </tr>\n",
              "  </tbody>\n",
              "</table>\n",
              "</div>"
            ],
            "text/plain": [
              "   Temperature (F)\n",
              "0             67.5\n",
              "1             67.3\n",
              "2             67.3\n",
              "3             67.3\n",
              "4             67.2"
            ]
          },
          "metadata": {
            "tags": []
          },
          "execution_count": 30
        }
      ]
    },
    {
      "cell_type": "code",
      "metadata": {
        "id": "IIeb3UwznHe8",
        "colab_type": "code",
        "colab": {}
      },
      "source": [
        "import sys\n",
        "sys.path.append('/gdrive/My Drive/Capstone/Walkin_Temp/1min_Average_Datasets') #change the path where CommonMethods module is placed in your PC\n",
        "\n",
        "import CommonMethods as common"
      ],
      "execution_count": 34,
      "outputs": []
    },
    {
      "cell_type": "code",
      "metadata": {
        "id": "_kfiR2j_m5RH",
        "colab_type": "code",
        "colab": {}
      },
      "source": [
        "data.rename(columns = {'Temperature (F)' : 'Temperature'}, inplace = True)"
      ],
      "execution_count": 31,
      "outputs": []
    },
    {
      "cell_type": "code",
      "metadata": {
        "id": "eOqZfNormxzq",
        "colab_type": "code",
        "colab": {
          "base_uri": "https://localhost:8080/",
          "height": 52
        },
        "outputId": "24769e22-07c2-4814-9ba9-82234f849178"
      },
      "source": [
        "lstConditions = common.getOutlierBoundaryConditions(data)\n",
        "outlier_df = data.loc[lstConditions[0] | lstConditions[1]]"
      ],
      "execution_count": 35,
      "outputs": [
        {
          "output_type": "stream",
          "text": [
            "40.6\n",
            "37.6\n"
          ],
          "name": "stdout"
        }
      ]
    },
    {
      "cell_type": "code",
      "metadata": {
        "id": "RMoXY__Hm9nD",
        "colab_type": "code",
        "colab": {
          "base_uri": "https://localhost:8080/",
          "height": 34
        },
        "outputId": "7d7078ba-59cc-49e9-81a8-c76c84eb708b"
      },
      "source": [
        "outlier_df.shape"
      ],
      "execution_count": 36,
      "outputs": [
        {
          "output_type": "execute_result",
          "data": {
            "text/plain": [
              "(74467, 1)"
            ]
          },
          "metadata": {
            "tags": []
          },
          "execution_count": 36
        }
      ]
    },
    {
      "cell_type": "code",
      "metadata": {
        "id": "x_frUMQWna1a",
        "colab_type": "code",
        "colab": {
          "base_uri": "https://localhost:8080/",
          "height": 77
        },
        "outputId": "cde30a56-274a-4480-bc31-b84caf971937"
      },
      "source": [
        "outlier_df.describe().T"
      ],
      "execution_count": 37,
      "outputs": [
        {
          "output_type": "execute_result",
          "data": {
            "text/html": [
              "<div>\n",
              "<style scoped>\n",
              "    .dataframe tbody tr th:only-of-type {\n",
              "        vertical-align: middle;\n",
              "    }\n",
              "\n",
              "    .dataframe tbody tr th {\n",
              "        vertical-align: top;\n",
              "    }\n",
              "\n",
              "    .dataframe thead th {\n",
              "        text-align: right;\n",
              "    }\n",
              "</style>\n",
              "<table border=\"1\" class=\"dataframe\">\n",
              "  <thead>\n",
              "    <tr style=\"text-align: right;\">\n",
              "      <th></th>\n",
              "      <th>count</th>\n",
              "      <th>mean</th>\n",
              "      <th>std</th>\n",
              "      <th>min</th>\n",
              "      <th>25%</th>\n",
              "      <th>50%</th>\n",
              "      <th>75%</th>\n",
              "      <th>max</th>\n",
              "    </tr>\n",
              "  </thead>\n",
              "  <tbody>\n",
              "    <tr>\n",
              "      <th>Temperature</th>\n",
              "      <td>74467.0</td>\n",
              "      <td>51.477724</td>\n",
              "      <td>11.053637</td>\n",
              "      <td>23.4</td>\n",
              "      <td>46.7</td>\n",
              "      <td>49.1</td>\n",
              "      <td>55.5</td>\n",
              "      <td>87.1</td>\n",
              "    </tr>\n",
              "  </tbody>\n",
              "</table>\n",
              "</div>"
            ],
            "text/plain": [
              "               count       mean        std   min   25%   50%   75%   max\n",
              "Temperature  74467.0  51.477724  11.053637  23.4  46.7  49.1  55.5  87.1"
            ]
          },
          "metadata": {
            "tags": []
          },
          "execution_count": 37
        }
      ]
    },
    {
      "cell_type": "code",
      "metadata": {
        "id": "NGGeA0VSndze",
        "colab_type": "code",
        "colab": {}
      },
      "source": [
        ""
      ],
      "execution_count": null,
      "outputs": []
    }
  ]
}